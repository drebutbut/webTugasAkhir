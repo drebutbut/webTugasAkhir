{
 "cells": [
  {
   "cell_type": "code",
   "execution_count": 1,
   "metadata": {},
   "outputs": [],
   "source": [
    "import numpy\n",
    "# from customFunc import logTransform, reflectLogTransform"
   ]
  },
  {
   "cell_type": "code",
   "execution_count": 2,
   "metadata": {},
   "outputs": [
    {
     "name": "stdout",
     "output_type": "stream",
     "text": [
      "1.24.3\n"
     ]
    }
   ],
   "source": [
    "print(numpy.__version__)"
   ]
  },
  {
   "cell_type": "code",
   "execution_count": 4,
   "metadata": {},
   "outputs": [
    {
     "name": "stdout",
     "output_type": "stream",
     "text": [
      "Collecting scikit-learn==1.2.2\n",
      "  Obtaining dependency information for scikit-learn==1.2.2 from https://files.pythonhosted.org/packages/db/98/169b46a84b48f92df2b5e163fce75d471f4df933f8b3d925a61133210776/scikit_learn-1.2.2-cp311-cp311-win_amd64.whl.metadata\n",
      "  Downloading scikit_learn-1.2.2-cp311-cp311-win_amd64.whl.metadata (11 kB)\n",
      "Requirement already satisfied: numpy>=1.17.3 in c:\\users\\andre\\anaconda3\\lib\\site-packages (from scikit-learn==1.2.2) (1.24.3)\n",
      "Requirement already satisfied: scipy>=1.3.2 in c:\\users\\andre\\anaconda3\\lib\\site-packages (from scikit-learn==1.2.2) (1.10.1)\n",
      "Requirement already satisfied: joblib>=1.1.1 in c:\\users\\andre\\anaconda3\\lib\\site-packages (from scikit-learn==1.2.2) (1.2.0)\n",
      "Requirement already satisfied: threadpoolctl>=2.0.0 in c:\\users\\andre\\anaconda3\\lib\\site-packages (from scikit-learn==1.2.2) (2.2.0)\n",
      "Downloading scikit_learn-1.2.2-cp311-cp311-win_amd64.whl (8.3 MB)\n",
      "   ---------------------------------------- 0.0/8.3 MB ? eta -:--:--\n",
      "   ---------------------------------------- 0.0/8.3 MB 991.0 kB/s eta 0:00:09\n",
      "    --------------------------------------- 0.1/8.3 MB 1.4 MB/s eta 0:00:06\n",
      "    --------------------------------------- 0.2/8.3 MB 1.6 MB/s eta 0:00:06\n",
      "   - -------------------------------------- 0.3/8.3 MB 1.4 MB/s eta 0:00:06\n",
      "   - -------------------------------------- 0.3/8.3 MB 1.7 MB/s eta 0:00:05\n",
      "   - -------------------------------------- 0.4/8.3 MB 1.5 MB/s eta 0:00:06\n",
      "   - -------------------------------------- 0.4/8.3 MB 1.2 MB/s eta 0:00:07\n",
      "   - -------------------------------------- 0.4/8.3 MB 1.1 MB/s eta 0:00:08\n",
      "   -- ------------------------------------- 0.4/8.3 MB 1.1 MB/s eta 0:00:08\n",
      "   -- ------------------------------------- 0.4/8.3 MB 984.2 kB/s eta 0:00:08\n",
      "   -- ------------------------------------- 0.6/8.3 MB 1.1 MB/s eta 0:00:07\n",
      "   --- ------------------------------------ 0.7/8.3 MB 1.2 MB/s eta 0:00:07\n",
      "   --- ------------------------------------ 0.7/8.3 MB 1.3 MB/s eta 0:00:06\n",
      "   ---- ----------------------------------- 0.8/8.3 MB 1.3 MB/s eta 0:00:06\n",
      "   ---- ----------------------------------- 0.9/8.3 MB 1.4 MB/s eta 0:00:06\n",
      "   ----- ---------------------------------- 1.1/8.3 MB 1.5 MB/s eta 0:00:05\n",
      "   ------ --------------------------------- 1.3/8.3 MB 1.6 MB/s eta 0:00:05\n",
      "   ------ --------------------------------- 1.4/8.3 MB 1.7 MB/s eta 0:00:05\n",
      "   ------- -------------------------------- 1.5/8.3 MB 1.7 MB/s eta 0:00:04\n",
      "   ------- -------------------------------- 1.6/8.3 MB 1.7 MB/s eta 0:00:04\n",
      "   ------- -------------------------------- 1.6/8.3 MB 1.7 MB/s eta 0:00:04\n",
      "   -------- ------------------------------- 1.8/8.3 MB 1.8 MB/s eta 0:00:04\n",
      "   --------- ------------------------------ 1.9/8.3 MB 1.8 MB/s eta 0:00:04\n",
      "   ---------- ----------------------------- 2.1/8.3 MB 1.9 MB/s eta 0:00:04\n",
      "   ---------- ----------------------------- 2.3/8.3 MB 1.9 MB/s eta 0:00:04\n",
      "   ----------- ---------------------------- 2.5/8.3 MB 2.0 MB/s eta 0:00:03\n",
      "   ------------ --------------------------- 2.6/8.3 MB 2.1 MB/s eta 0:00:03\n",
      "   ------------- -------------------------- 2.7/8.3 MB 2.1 MB/s eta 0:00:03\n",
      "   ------------- -------------------------- 2.8/8.3 MB 2.1 MB/s eta 0:00:03\n",
      "   -------------- ------------------------- 3.0/8.3 MB 2.1 MB/s eta 0:00:03\n",
      "   --------------- ------------------------ 3.1/8.3 MB 2.2 MB/s eta 0:00:03\n",
      "   ---------------- ----------------------- 3.3/8.3 MB 2.2 MB/s eta 0:00:03\n",
      "   ----------------- ---------------------- 3.6/8.3 MB 2.3 MB/s eta 0:00:03\n",
      "   ----------------- ---------------------- 3.7/8.3 MB 2.3 MB/s eta 0:00:02\n",
      "   ------------------ --------------------- 3.8/8.3 MB 2.4 MB/s eta 0:00:02\n",
      "   ------------------- -------------------- 4.1/8.3 MB 2.4 MB/s eta 0:00:02\n",
      "   -------------------- ------------------- 4.2/8.3 MB 2.4 MB/s eta 0:00:02\n",
      "   --------------------- ------------------ 4.4/8.3 MB 2.5 MB/s eta 0:00:02\n",
      "   --------------------- ------------------ 4.4/8.3 MB 2.5 MB/s eta 0:00:02\n",
      "   ---------------------- ----------------- 4.6/8.3 MB 2.5 MB/s eta 0:00:02\n",
      "   ----------------------- ---------------- 4.8/8.3 MB 2.5 MB/s eta 0:00:02\n",
      "   ----------------------- ---------------- 4.9/8.3 MB 2.6 MB/s eta 0:00:02\n",
      "   ------------------------ --------------- 5.2/8.3 MB 2.6 MB/s eta 0:00:02\n",
      "   ------------------------- -------------- 5.3/8.3 MB 2.6 MB/s eta 0:00:02\n",
      "   -------------------------- ------------- 5.5/8.3 MB 2.6 MB/s eta 0:00:02\n",
      "   --------------------------- ------------ 5.7/8.3 MB 2.6 MB/s eta 0:00:01\n",
      "   --------------------------- ------------ 5.7/8.3 MB 2.6 MB/s eta 0:00:01\n",
      "   ---------------------------- ----------- 5.8/8.3 MB 2.6 MB/s eta 0:00:01\n",
      "   ---------------------------- ----------- 6.0/8.3 MB 2.6 MB/s eta 0:00:01\n",
      "   ----------------------------- ---------- 6.1/8.3 MB 2.6 MB/s eta 0:00:01\n",
      "   ------------------------------ --------- 6.2/8.3 MB 2.6 MB/s eta 0:00:01\n",
      "   ------------------------------ --------- 6.4/8.3 MB 2.7 MB/s eta 0:00:01\n",
      "   -------------------------------- ------- 6.6/8.3 MB 2.7 MB/s eta 0:00:01\n",
      "   -------------------------------- ------- 6.8/8.3 MB 2.7 MB/s eta 0:00:01\n",
      "   ---------------------------------- ----- 7.0/8.3 MB 2.8 MB/s eta 0:00:01\n",
      "   ----------------------------------- ---- 7.2/8.3 MB 2.8 MB/s eta 0:00:01\n",
      "   ------------------------------------ --- 7.5/8.3 MB 2.8 MB/s eta 0:00:01\n",
      "   ------------------------------------ --- 7.6/8.3 MB 2.8 MB/s eta 0:00:01\n",
      "   ------------------------------------- -- 7.8/8.3 MB 2.9 MB/s eta 0:00:01\n",
      "   -------------------------------------- - 7.9/8.3 MB 2.8 MB/s eta 0:00:01\n",
      "   -------------------------------------- - 7.9/8.3 MB 2.8 MB/s eta 0:00:01\n",
      "   ---------------------------------------  8.3/8.3 MB 2.9 MB/s eta 0:00:01\n",
      "   ---------------------------------------- 8.3/8.3 MB 2.8 MB/s eta 0:00:00\n",
      "Installing collected packages: scikit-learn\n",
      "  Attempting uninstall: scikit-learn\n",
      "    Found existing installation: scikit-learn 1.3.0\n",
      "    Uninstalling scikit-learn-1.3.0:\n",
      "      Successfully uninstalled scikit-learn-1.3.0\n",
      "Successfully installed scikit-learn-1.2.2\n",
      "Note: you may need to restart the kernel to use updated packages.\n"
     ]
    }
   ],
   "source": [
    "# pip install scikit-learn==1.2.2"
   ]
  },
  {
   "cell_type": "code",
   "execution_count": 3,
   "metadata": {},
   "outputs": [
    {
     "name": "stdout",
     "output_type": "stream",
     "text": [
      "0.3.6\n",
      "1.2.2\n"
     ]
    }
   ],
   "source": [
    "import dill as pickle\n",
    "print(pickle.__version__)\n",
    "\n",
    "import sklearn\n",
    "print(sklearn.__version__)"
   ]
  },
  {
   "cell_type": "code",
   "execution_count": 4,
   "metadata": {},
   "outputs": [],
   "source": [
    "with open('./ninthUpdateRandomForest.pkl', 'rb') as file:\n",
    "    model = pickle.load(file)"
   ]
  },
  {
   "cell_type": "code",
   "execution_count": 5,
   "metadata": {},
   "outputs": [],
   "source": [
    "import pandas as pd"
   ]
  },
  {
   "cell_type": "code",
   "execution_count": 6,
   "metadata": {},
   "outputs": [],
   "source": [
    "sampleData = pd.DataFrame([{\n",
    "            'Na': 1.5,\n",
    "            'Mg': 0.3,\n",
    "            'Al': 0.8,\n",
    "            'RI': 1.2,\n",
    "            'Si': 2.3,\n",
    "            'K': 0.4,\n",
    "            'Ca': 1.1,\n",
    "            'Ba': 0.6,\n",
    "            'Fe': 0.9\n",
    "        }])"
   ]
  },
  {
   "cell_type": "code",
   "execution_count": 1,
   "metadata": {},
   "outputs": [
    {
     "ename": "",
     "evalue": "",
     "output_type": "error",
     "traceback": [
      "\u001b[1;31mThe Kernel crashed while executing code in the current cell or a previous cell. \n",
      "\u001b[1;31mPlease review the code in the cell(s) to identify a possible cause of the failure. \n",
      "\u001b[1;31mClick <a href='https://aka.ms/vscodeJupyterKernelCrash'>here</a> for more info. \n",
      "\u001b[1;31mView Jupyter <a href='command:jupyter.viewOutput'>log</a> for further details."
     ]
    }
   ],
   "source": [
    "prediction = model.predict(sampleData)"
   ]
  },
  {
   "cell_type": "code",
   "execution_count": null,
   "metadata": {},
   "outputs": [],
   "source": []
  }
 ],
 "metadata": {
  "kernelspec": {
   "display_name": "Python 3",
   "language": "python",
   "name": "python3"
  },
  "language_info": {
   "codemirror_mode": {
    "name": "ipython",
    "version": 3
   },
   "file_extension": ".py",
   "mimetype": "text/x-python",
   "name": "python",
   "nbconvert_exporter": "python",
   "pygments_lexer": "ipython3",
   "version": "3.11.4"
  }
 },
 "nbformat": 4,
 "nbformat_minor": 2
}
